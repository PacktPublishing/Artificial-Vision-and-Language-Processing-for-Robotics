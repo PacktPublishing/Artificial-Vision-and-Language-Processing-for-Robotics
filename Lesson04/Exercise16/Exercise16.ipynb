{
  "nbformat": 4,
  "nbformat_minor": 0,
  "metadata": {
    "colab": {
      "name": "Exercise03.ipynb",
      "version": "0.3.2",
      "provenance": []
    },
    "kernelspec": {
      "name": "python3",
      "display_name": "Python 3"
    }
  },
  "cells": [
    {
      "metadata": {
        "id": "EZTs7RWfQnIf",
        "colab_type": "code",
        "colab": {}
      },
      "cell_type": "code",
      "source": [
        "corpus = [\n",
        "     'My cat is white',\n",
        "     'I am the major of this city',\n",
        "     'I love eating toasted cheese',\n",
        "     'The lazy cat is sleeping',\n",
        "]\n"
      ],
      "execution_count": 0,
      "outputs": []
    },
    {
      "metadata": {
        "id": "ZyAIcfrgQupd",
        "colab_type": "code",
        "colab": {
          "base_uri": "https://localhost:8080/",
          "height": 85
        },
        "outputId": "afab22c9-5071-4a23-fe54-db93d41accc8"
      },
      "cell_type": "code",
      "source": [
        "import spacy\n",
        "import en_core_web_sm\n",
        "nlp = en_core_web_sm.load()\n",
        "corpus_tokens = []\n",
        "for c in corpus:\n",
        "    doc = nlp(c)\n",
        "    tokens = []\n",
        "    for t in doc:\n",
        "        tokens.append(t.text)\n",
        "    corpus_tokens.append(tokens)\n",
        "corpus_tokens\n"
      ],
      "execution_count": 3,
      "outputs": [
        {
          "output_type": "execute_result",
          "data": {
            "text/plain": [
              "[['My', 'cat', 'is', 'white'],\n",
              " ['I', 'am', 'the', 'major', 'of', 'this', 'city'],\n",
              " ['I', 'love', 'eating', 'toasted', 'cheese'],\n",
              " ['The', 'lazy', 'cat', 'is', 'sleeping']]"
            ]
          },
          "metadata": {
            "tags": []
          },
          "execution_count": 3
        }
      ]
    },
    {
      "metadata": {
        "id": "F0H9Wz5xQzF9",
        "colab_type": "code",
        "colab": {
          "base_uri": "https://localhost:8080/",
          "height": 323
        },
        "outputId": "c734d2d0-4e4a-42a0-dfc6-b6178ec657b9"
      },
      "cell_type": "code",
      "source": [
        "processed_corpus = [t for sentence in corpus_tokens for t in sentence]\n",
        "processed_corpus = set(processed_corpus)\n",
        "processed_corpus\n"
      ],
      "execution_count": 4,
      "outputs": [
        {
          "output_type": "execute_result",
          "data": {
            "text/plain": [
              "{'I',\n",
              " 'My',\n",
              " 'The',\n",
              " 'am',\n",
              " 'cat',\n",
              " 'cheese',\n",
              " 'city',\n",
              " 'eating',\n",
              " 'is',\n",
              " 'lazy',\n",
              " 'love',\n",
              " 'major',\n",
              " 'of',\n",
              " 'sleeping',\n",
              " 'the',\n",
              " 'this',\n",
              " 'toasted',\n",
              " 'white'}"
            ]
          },
          "metadata": {
            "tags": []
          },
          "execution_count": 4
        }
      ]
    },
    {
      "metadata": {
        "id": "gIpex4yhQ-E-",
        "colab_type": "code",
        "colab": {
          "base_uri": "https://localhost:8080/",
          "height": 153
        },
        "outputId": "37d1eaf4-8d11-4788-d175-f6e400341aea"
      },
      "cell_type": "code",
      "source": [
        "import numpy as np\n",
        "sentence = 'My cat is lazy'\n",
        "tokenized_sentence = sentence.split()\n",
        "encoded_sentence = np.zeros([len(tokenized_sentence),len(processed_corpus)])\n",
        "encoded_sentence\n",
        "\n"
      ],
      "execution_count": 6,
      "outputs": [
        {
          "output_type": "execute_result",
          "data": {
            "text/plain": [
              "array([[0., 0., 0., 0., 0., 0., 0., 0., 0., 0., 0., 0., 0., 0., 0., 0.,\n",
              "        0., 0.],\n",
              "       [0., 0., 0., 0., 0., 0., 0., 0., 0., 0., 0., 0., 0., 0., 0., 0.,\n",
              "        0., 0.],\n",
              "       [0., 0., 0., 0., 0., 0., 0., 0., 0., 0., 0., 0., 0., 0., 0., 0.,\n",
              "        0., 0.],\n",
              "       [0., 0., 0., 0., 0., 0., 0., 0., 0., 0., 0., 0., 0., 0., 0., 0.,\n",
              "        0., 0.]])"
            ]
          },
          "metadata": {
            "tags": []
          },
          "execution_count": 6
        }
      ]
    },
    {
      "metadata": {
        "id": "OQJpL9ufRVSq",
        "colab_type": "code",
        "colab": {
          "base_uri": "https://localhost:8080/",
          "height": 153
        },
        "outputId": "1db3f8da-1bc9-4707-cbb8-02e0d0bc53a4"
      },
      "cell_type": "code",
      "source": [
        "word2int = dict([(tok, pos) for pos, tok in enumerate(processed_corpus)])\n",
        "for i,c in enumerate(sentence.split()):\n",
        "    encoded_sentence[i][ word2int[c] ] = 1\n",
        "encoded_sentence"
      ],
      "execution_count": 9,
      "outputs": [
        {
          "output_type": "execute_result",
          "data": {
            "text/plain": [
              "array([[0., 0., 0., 0., 0., 0., 0., 0., 0., 0., 0., 0., 0., 1., 0., 0.,\n",
              "        0., 0.],\n",
              "       [0., 0., 0., 0., 0., 0., 0., 0., 0., 0., 0., 0., 0., 0., 0., 0.,\n",
              "        0., 1.],\n",
              "       [0., 0., 0., 0., 0., 0., 0., 0., 0., 0., 0., 0., 0., 0., 1., 0.,\n",
              "        0., 0.],\n",
              "       [0., 1., 0., 0., 0., 0., 0., 0., 0., 0., 0., 0., 0., 0., 0., 0.,\n",
              "        0., 0.]])"
            ]
          },
          "metadata": {
            "tags": []
          },
          "execution_count": 9
        }
      ]
    },
    {
      "metadata": {
        "id": "9fZ-FNLLR2YT",
        "colab_type": "code",
        "colab": {
          "base_uri": "https://localhost:8080/",
          "height": 34
        },
        "outputId": "a0b3d4ef-6609-4f2b-d718-d5ce90d428a1"
      },
      "cell_type": "code",
      "source": [
        "print(\"Shape of the encoded sentence:\", encoded_sentence.shape)"
      ],
      "execution_count": 10,
      "outputs": [
        {
          "output_type": "stream",
          "text": [
            "Shape of the encoded sentence: (4, 18)\n"
          ],
          "name": "stdout"
        }
      ]
    },
    {
      "metadata": {
        "id": "GutuJxGSR7By",
        "colab_type": "code",
        "colab": {
          "base_uri": "https://localhost:8080/",
          "height": 51
        },
        "outputId": "e6668b94-fe85-48a4-b1d8-095a8648126e"
      },
      "cell_type": "code",
      "source": [
        "from sklearn.preprocessing import LabelEncoder\n",
        "from sklearn.preprocessing import OneHotEncoder\n",
        "\n",
        "le = LabelEncoder()\n",
        "\n",
        "labeled_corpus = le.fit_transform(list(processed_corpus))\n",
        "labeled_corpus\n"
      ],
      "execution_count": 13,
      "outputs": [
        {
          "output_type": "execute_result",
          "data": {
            "text/plain": [
              "array([10,  9,  5, 13,  0, 14,  6,  7, 16, 15, 11,  2, 12,  1,  8,  3, 17,\n",
              "        4])"
            ]
          },
          "metadata": {
            "tags": []
          },
          "execution_count": 13
        }
      ]
    },
    {
      "metadata": {
        "id": "Uyms_XyuSZFC",
        "colab_type": "code",
        "colab": {
          "base_uri": "https://localhost:8080/",
          "height": 34
        },
        "outputId": "78da4df4-a166-462a-c5f3-a1200c4f1aa7"
      },
      "cell_type": "code",
      "source": [
        "sentence = 'My cat is lazy'\n",
        "tokenized_sentence = sentence.split()\n",
        "integer_encoded = le.transform(tokenized_sentence)\n",
        "integer_encoded\n"
      ],
      "execution_count": 14,
      "outputs": [
        {
          "output_type": "execute_result",
          "data": {
            "text/plain": [
              "array([1, 4, 8, 9])"
            ]
          },
          "metadata": {
            "tags": []
          },
          "execution_count": 14
        }
      ]
    },
    {
      "metadata": {
        "id": "XRnIOcK8Se4C",
        "colab_type": "code",
        "colab": {
          "base_uri": "https://localhost:8080/",
          "height": 34
        },
        "outputId": "b12684f7-d1a0-4ea5-e128-57f5c3a47873"
      },
      "cell_type": "code",
      "source": [
        "le.inverse_transform(integer_encoded)"
      ],
      "execution_count": 15,
      "outputs": [
        {
          "output_type": "execute_result",
          "data": {
            "text/plain": [
              "array(['My', 'cat', 'is', 'lazy'], dtype='<U8')"
            ]
          },
          "metadata": {
            "tags": []
          },
          "execution_count": 15
        }
      ]
    },
    {
      "metadata": {
        "id": "CA2T-vZUSj3F",
        "colab_type": "code",
        "colab": {}
      },
      "cell_type": "code",
      "source": [
        "onehot_encoder = OneHotEncoder(sparse=False)"
      ],
      "execution_count": 0,
      "outputs": []
    },
    {
      "metadata": {
        "id": "bizYqCIFSm8l",
        "colab_type": "code",
        "colab": {
          "base_uri": "https://localhost:8080/",
          "height": 105
        },
        "outputId": "e5710be5-9bc5-49e7-e941-9111f6351946"
      },
      "cell_type": "code",
      "source": [
        "labeled_corpus = labeled_corpus.reshape(len(labeled_corpus), 1)\n",
        "onehot_encoded = onehot_encoder.fit(labeled_corpus)\n"
      ],
      "execution_count": 17,
      "outputs": [
        {
          "output_type": "stream",
          "text": [
            "/usr/local/lib/python3.6/dist-packages/sklearn/preprocessing/_encoders.py:371: FutureWarning: The handling of integer data will change in version 0.22. Currently, the categories are determined based on the range [0, max(values)], while in the future they will be determined based on the unique values.\n",
            "If you want the future behaviour and silence this warning, you can specify \"categories='auto'\".\n",
            "In case you used a LabelEncoder before this OneHotEncoder to convert the categories to integers, then you can now use the OneHotEncoder directly.\n",
            "  warnings.warn(msg, FutureWarning)\n"
          ],
          "name": "stderr"
        }
      ]
    },
    {
      "metadata": {
        "id": "-WfwaW8qSpS-",
        "colab_type": "code",
        "colab": {
          "base_uri": "https://localhost:8080/",
          "height": 85
        },
        "outputId": "3f0238dc-6087-455f-f83d-ea9d9ecdef7d"
      },
      "cell_type": "code",
      "source": [
        "sentence_encoded = onehot_encoded.transform(integer_encoded.reshape(len(integer_encoded), 1))\n",
        "print(sentence_encoded)\n"
      ],
      "execution_count": 18,
      "outputs": [
        {
          "output_type": "stream",
          "text": [
            "[[0. 1. 0. 0. 0. 0. 0. 0. 0. 0. 0. 0. 0. 0. 0. 0. 0. 0.]\n",
            " [0. 0. 0. 0. 1. 0. 0. 0. 0. 0. 0. 0. 0. 0. 0. 0. 0. 0.]\n",
            " [0. 0. 0. 0. 0. 0. 0. 0. 1. 0. 0. 0. 0. 0. 0. 0. 0. 0.]\n",
            " [0. 0. 0. 0. 0. 0. 0. 0. 0. 1. 0. 0. 0. 0. 0. 0. 0. 0.]]\n"
          ],
          "name": "stdout"
        }
      ]
    }
  ]
}