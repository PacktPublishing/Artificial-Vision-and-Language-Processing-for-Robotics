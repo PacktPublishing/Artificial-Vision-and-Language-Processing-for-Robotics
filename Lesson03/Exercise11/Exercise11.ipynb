{
  "nbformat": 4,
  "nbformat_minor": 0,
  "metadata": {
    "colab": {
      "name": "Exercise02.ipynb",
      "version": "0.3.2",
      "provenance": []
    },
    "kernelspec": {
      "name": "python3",
      "display_name": "Python 3"
    }
  },
  "cells": [
    {
      "metadata": {
        "id": "jn4SNbFds_MW",
        "colab_type": "code",
        "colab": {}
      },
      "cell_type": "code",
      "source": [
        "import spacy"
      ],
      "execution_count": 0,
      "outputs": []
    },
    {
      "metadata": {
        "id": "PORoUAlItDwY",
        "colab_type": "code",
        "colab": {}
      },
      "cell_type": "code",
      "source": [
        "nlp = spacy.load('en')"
      ],
      "execution_count": 0,
      "outputs": []
    },
    {
      "metadata": {
        "id": "2biaEfR9tS3w",
        "colab_type": "code",
        "colab": {}
      },
      "cell_type": "code",
      "source": [
        "example_sentence = \"This course is great. I'm going to learn deep learning; Artificial Intelligence is amazing and I love robotics...\"\n",
        "doc1 = nlp(example_sentence)\n"
      ],
      "execution_count": 0,
      "outputs": []
    },
    {
      "metadata": {
        "id": "8XiYY8SNtWl4",
        "colab_type": "code",
        "colab": {
          "base_uri": "https://localhost:8080/",
          "height": 90
        },
        "outputId": "d2d1766f-a011-42be-fdd0-3f55b78c8ddc"
      },
      "cell_type": "code",
      "source": [
        "print(\"Doc structure: {}\".format(doc1))\n",
        "print(\"Type of doc1:{}\".format(type(doc1)))\n",
        "print(\"5th and 10th Token of the Doc: {}, {}\".format(doc1[5], doc1[11]))\n",
        "print(\"Span between the 5th token and the 10th: {}\".format(doc1[5:11]))\n"
      ],
      "execution_count": 9,
      "outputs": [
        {
          "output_type": "stream",
          "text": [
            "Doc structure: This course is great. I'm going to learn deep learning; Artificial Intelligence is amazing and I love robotics...\n",
            "Type of doc1:<class 'spacy.tokens.doc.Doc'>\n",
            "5th and 10th Token of the Doc: I, learning\n",
            "Span between the 5th token and the 10th: I'm going to learn deep\n"
          ],
          "name": "stdout"
        }
      ]
    },
    {
      "metadata": {
        "id": "WKEl7WlUtXeo",
        "colab_type": "code",
        "colab": {
          "base_uri": "https://localhost:8080/",
          "height": 54
        },
        "outputId": "f5d6c020-3c10-49f7-a8f5-96c1d4e762aa"
      },
      "cell_type": "code",
      "source": [
        "for s in doc1.sents:\n",
        "    print(s)\n"
      ],
      "execution_count": 10,
      "outputs": [
        {
          "output_type": "stream",
          "text": [
            "This course is great.\n",
            "I'm going to learn deep learning; Artificial Intelligence is amazing and I love robotics...\n"
          ],
          "name": "stdout"
        }
      ]
    },
    {
      "metadata": {
        "id": "54HNKp-HtfoP",
        "colab_type": "code",
        "colab": {
          "base_uri": "https://localhost:8080/",
          "height": 417
        },
        "outputId": "6f84a08d-502c-4b1f-fda7-4d2dd883586a"
      },
      "cell_type": "code",
      "source": [
        "for i in doc1:\n",
        "    print(i)\n"
      ],
      "execution_count": 11,
      "outputs": [
        {
          "output_type": "stream",
          "text": [
            "This\n",
            "course\n",
            "is\n",
            "great\n",
            ".\n",
            "I\n",
            "'m\n",
            "going\n",
            "to\n",
            "learn\n",
            "deep\n",
            "learning\n",
            ";\n",
            "Artificial\n",
            "Intelligence\n",
            "is\n",
            "amazing\n",
            "and\n",
            "I\n",
            "love\n",
            "robotics\n",
            "...\n"
          ],
          "name": "stdout"
        }
      ]
    },
    {
      "metadata": {
        "id": "FpeDOhxVuH0V",
        "colab_type": "code",
        "colab": {}
      },
      "cell_type": "code",
      "source": [
        ""
      ],
      "execution_count": 0,
      "outputs": []
    },
    {
      "metadata": {
        "id": "_4JEWaXqtuzw",
        "colab_type": "code",
        "colab": {
          "base_uri": "https://localhost:8080/",
          "height": 54
        },
        "outputId": "cc61a66b-f42a-4d08-fe8e-5b2bca14c35f"
      },
      "cell_type": "code",
      "source": [
        "from spacy.lang.en.stop_words import STOP_WORDS\n",
        "print(\"Some stopwords of spaCy: {}\".format(list(STOP_WORDS)[:10]))\n",
        "type(STOP_WORDS)\n"
      ],
      "execution_count": 12,
      "outputs": [
        {
          "output_type": "stream",
          "text": [
            "Some stopwords of spaCy: ['too', 'quite', 'something', 'these', 'against', 'have', 'since', 'whenever', 'done', 'might']\n"
          ],
          "name": "stdout"
        },
        {
          "output_type": "execute_result",
          "data": {
            "text/plain": [
              "set"
            ]
          },
          "metadata": {
            "tags": []
          },
          "execution_count": 12
        }
      ]
    },
    {
      "metadata": {
        "id": "a45juDIKtvfg",
        "colab_type": "code",
        "colab": {
          "base_uri": "https://localhost:8080/",
          "height": 108
        },
        "outputId": "b6bca215-d60e-485e-e656-847fc7896a41"
      },
      "cell_type": "code",
      "source": [
        "for i in doc1[0:5]:\n",
        "    print(\"Token: {} | Stop word: {}\".format(i, i.is_stop))\n"
      ],
      "execution_count": 14,
      "outputs": [
        {
          "output_type": "stream",
          "text": [
            "Token: This | Stop word: False\n",
            "Token: course | Stop word: False\n",
            "Token: is | Stop word: True\n",
            "Token: great | Stop word: False\n",
            "Token: . | Stop word: False\n"
          ],
          "name": "stdout"
        }
      ]
    },
    {
      "metadata": {
        "id": "2KB7JMKMt3tZ",
        "colab_type": "code",
        "colab": {
          "base_uri": "https://localhost:8080/",
          "height": 35
        },
        "outputId": "132a6155-bd18-40d8-d9c9-0ecaf9347111"
      },
      "cell_type": "code",
      "source": [
        "nlp.vocab[\"This\"].is_stop = True\n",
        "doc1[0].is_stop\n"
      ],
      "execution_count": 15,
      "outputs": [
        {
          "output_type": "execute_result",
          "data": {
            "text/plain": [
              "True"
            ]
          },
          "metadata": {
            "tags": []
          },
          "execution_count": 15
        }
      ]
    },
    {
      "metadata": {
        "id": "p3w1S-gGuL7c",
        "colab_type": "code",
        "colab": {
          "base_uri": "https://localhost:8080/",
          "height": 108
        },
        "outputId": "6f48e304-832e-4e9d-c971-e72de1574800"
      },
      "cell_type": "code",
      "source": [
        "for i in doc1[0:5]:\n",
        "    print(\"Token: {} | Tag: {}\".format(i.text, i.pos_))\n"
      ],
      "execution_count": 16,
      "outputs": [
        {
          "output_type": "stream",
          "text": [
            "Token: This | Tag: DET\n",
            "Token: course | Tag: NOUN\n",
            "Token: is | Tag: VERB\n",
            "Token: great | Tag: ADJ\n",
            "Token: . | Tag: PUNCT\n"
          ],
          "name": "stdout"
        }
      ]
    },
    {
      "metadata": {
        "id": "d6lHEhnEuOYu",
        "colab_type": "code",
        "colab": {
          "base_uri": "https://localhost:8080/",
          "height": 90
        },
        "outputId": "33d4a0f7-cbb9-43f0-a99d-3b97787856c4"
      },
      "cell_type": "code",
      "source": [
        "doc2 = nlp(\"I live in Madrid and I am working in Google from 10th of December.\")\n",
        "for i in doc2.ents:\n",
        "    print(\"Word: {} | Entity: {}\".format(i.text, i.label_))\n"
      ],
      "execution_count": 17,
      "outputs": [
        {
          "output_type": "stream",
          "text": [
            "Word: Madrid | Entity: GPE\n",
            "Word: Google | Entity: GPE\n",
            "Word: 10th | Entity: ORDINAL\n",
            "Word: December | Entity: DATE\n"
          ],
          "name": "stdout"
        }
      ]
    }
  ]
}