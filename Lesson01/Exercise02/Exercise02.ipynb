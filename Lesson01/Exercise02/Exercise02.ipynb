{
 "cells": [
  {
   "cell_type": "code",
   "execution_count": 1,
   "metadata": {},
   "outputs": [
    {
     "data": {
      "text/plain": [
       "165.34698176788385"
      ]
     },
     "execution_count": 1,
     "metadata": {},
     "output_type": "execute_result"
    }
   ],
   "source": [
    "from math import pi\n",
    "\n",
    "def wheel_distance(diameter, encoder, encoder_time, wheel, movement_time):\n",
    "    \n",
    "    time = movement_time / encoder_time\n",
    "    wheel_encoder = wheel * time\n",
    "    wheel_distance = (wheel_encoder * diameter * pi) / encoder\n",
    "    \n",
    "    return wheel_distance\n",
    "\n",
    "\n",
    "wheel_distance(10, 76, 5, 400, 5)"
   ]
  }
 ],
 "metadata": {
  "kernelspec": {
   "display_name": "Python 3",
   "language": "python",
   "name": "python3"
  },
  "language_info": {
   "codemirror_mode": {
    "name": "ipython",
    "version": 3
   },
   "file_extension": ".py",
   "mimetype": "text/x-python",
   "name": "python",
   "nbconvert_exporter": "python",
   "pygments_lexer": "ipython3",
   "version": "3.6.4"
  }
 },
 "nbformat": 4,
 "nbformat_minor": 2
}
