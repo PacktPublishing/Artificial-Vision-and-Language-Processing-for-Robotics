{
 "cells": [
  {
   "cell_type": "code",
   "execution_count": 1,
   "metadata": {},
   "outputs": [],
   "source": [
    "from math import pi\n",
    "\n",
    "def wheel_distance(diameter, encoder, encoder_time, wheel, movement_time):\n",
    "    time = movement_time / encoder_time\n",
    "    wheel_encoder = wheel * time\n",
    "    wheel_distance = (wheel_encoder * diameter * pi) / encoder\n",
    "    \n",
    "    return wheel_distance"
   ]
  },
  {
   "cell_type": "code",
   "execution_count": 2,
   "metadata": {},
   "outputs": [],
   "source": [
    "from math import cos, sin\n",
    "\n",
    "def final_position(initial_pos, wheel_axis, angle):\n",
    "    final_x = initial_pos[0] + (wheel_axis * cos(angle))\n",
    "    final_y = initial_pos[1] + (wheel_axis * sin(angle))\n",
    "    final_angle = initial_pos[2] + angle\n",
    "    \n",
    "    return(final_x, final_y, final_angle)"
   ]
  },
  {
   "cell_type": "code",
   "execution_count": 3,
   "metadata": {},
   "outputs": [
    {
     "data": {
      "text/plain": [
       "(6.4072682633830995, 309.9593745532724, 1.5501279540739117)"
      ]
     },
     "execution_count": 3,
     "metadata": {},
     "output_type": "execute_result"
    }
   ],
   "source": [
    "def position(diameter, base, encoder, encoder_time, left, right, initial_pos, movement_time):\n",
    "    \n",
    "    # First step: Wheels completed distance\n",
    "    left_wheel = wheel_distance(diameter, encoder, encoder_time, left, movement_time)\n",
    "    right_wheel = wheel_distance(diameter, encoder, encoder_time, right, movement_time)\n",
    "    \n",
    "    # Second step: Wheels' central axis completed distance\n",
    "    wheel_axis = (left_wheel + right_wheel) / 2\n",
    "    \n",
    "    # Third step: Robot rotation angle\n",
    "    angle = (right_wheel - left_wheel) / base\n",
    "    \n",
    "    # Final step: Final position calculus\n",
    "    final_pos = final_position(initial_pos, wheel_axis, angle)\n",
    "    \n",
    "    return final_pos\n",
    "\n",
    "\n",
    "position(10, 80, 76, 5, 600, 900, (0,0,0), 5)"
   ]
  }
 ],
 "metadata": {
  "kernelspec": {
   "display_name": "Python 3",
   "language": "python",
   "name": "python3"
  },
  "language_info": {
   "codemirror_mode": {
    "name": "ipython",
    "version": 3
   },
   "file_extension": ".py",
   "mimetype": "text/x-python",
   "name": "python",
   "nbconvert_exporter": "python",
   "pygments_lexer": "ipython3",
   "version": "3.6.4"
  }
 },
 "nbformat": 4,
 "nbformat_minor": 2
}
