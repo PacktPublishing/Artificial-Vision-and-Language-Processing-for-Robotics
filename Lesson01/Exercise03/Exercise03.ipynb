{
 "cells": [
  {
   "cell_type": "code",
   "execution_count": 1,
   "metadata": {},
   "outputs": [
    {
     "data": {
      "text/plain": [
       "(67.53778823351747, 105.18387310098706, 1)"
      ]
     },
     "execution_count": 1,
     "metadata": {},
     "output_type": "execute_result"
    }
   ],
   "source": [
    "from math import cos, sin\n",
    "\n",
    "def final_position(initial_pos, wheel_axis, angle):\n",
    "    final_x = initial_pos[0] + (wheel_axis * cos(angle))\n",
    "    final_y = initial_pos[1] + (wheel_axis * sin(angle))\n",
    "    final_angle = initial_pos[2] + angle\n",
    "    \n",
    "    return(final_x, final_y, final_angle)\n",
    "    \n",
    "final_position((0,0,0), 125, 1)"
   ]
  }
 ],
 "metadata": {
  "kernelspec": {
   "display_name": "Python 3",
   "language": "python",
   "name": "python3"
  },
  "language_info": {
   "codemirror_mode": {
    "name": "ipython",
    "version": 3
   },
   "file_extension": ".py",
   "mimetype": "text/x-python",
   "name": "python",
   "nbconvert_exporter": "python",
   "pygments_lexer": "ipython3",
   "version": "3.6.4"
  }
 },
 "nbformat": 4,
 "nbformat_minor": 2
}
